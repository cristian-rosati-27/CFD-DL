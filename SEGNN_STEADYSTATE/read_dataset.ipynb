{
 "cells": [
  {
   "cell_type": "code",
   "execution_count": null,
   "metadata": {},
   "outputs": [],
   "source": [
    "import torch\n",
    "import torch_geometric\n",
    "from torch_geometric.data import Data, Dataset\n",
    "from torch_geometric.loader import DataLoader\n",
    "import os\n",
    "import numpy as np\n",
    "\n",
    "from Utility_functions import print_3D_graph, Graph_dataset_with_equiv_features, Graph_datasetV2\n",
    "\n",
    "import params\n",
    "\n",
    "print('DATADIR', params.DATADIR)\n",
    "print('NSIM', params.NSIM)\n",
    "print('BATCH_SIZE', params.BATCH_SIZE)\n",
    "print('torch.__version__', torch.__version__)\n",
    "print('torch_geometric.__version__', torch_geometric.__version__)\n",
    "print('torch.cuda.is_available()', torch.cuda.is_available())\n"
   ]
  },
  {
   "cell_type": "code",
   "execution_count": null,
   "metadata": {},
   "outputs": [],
   "source": [
    "# first time ever this function is called, it processes the raw data stored in the \".../raw\" folder\n",
    "# and stores processed data in \".../processed\". After first processing, the process function is \n",
    "# no longer executed as long as the \"processed\" folder or the \"process\" function in Graph_datasetV3 remain unchanged.\n",
    "\n",
    "dataset = Graph_dataset_with_equiv_features(root = params.DATADIR)\n",
    "\n",
    "dataloader = DataLoader(dataset, batch_size=params.BATCH_SIZE, shuffle=False)\n",
    "\n",
    "# taking the first batch\n",
    "p = next(iter(dataloader)) \n",
    "\n",
    "# # Databatch: I have #batch_size number of objects. Every object is of type \"Data\",\n",
    "# # that stores the graph information in its different attributes\n",
    "# # here a graph is a single geometry with its steady state\n",
    "print(p) \n",
    "# print()\n",
    "# # First \"Data\" object in the batch\n",
    "# print(p[0], len(p[0])) \n",
    "# print()\n",
    "# print(type(p[0]))\n",
    "# print()\n",
    "# # .batch attribute (the shape is [#batch_size*nodes_per_graph]) is used to distinguish every graph in the batch\n",
    "# print(p[0], p.batch) \n",
    "\n",
    "# print(f\"x: {p.x.tolist()}\")\n",
    "# print(f\"ground truth (y): {p.y}\")\n",
    "# print(f\"pos: {p.pos}\")\n",
    "print(f\"node_attr: {p.node_attr}\")\n",
    "# print(f\"original_pos_plus_labels: {p.original_pos_plus_labels}\")\n",
    "# print(f\"mask: {p.mask}\")\n",
    "# print(f\"batch: {p.batch}\")\n",
    "# print(f\"ptr: {p.ptr}\")"
   ]
  },
  {
   "cell_type": "code",
   "execution_count": null,
   "metadata": {},
   "outputs": [],
   "source": [
    "\n",
    "test_graph = dataset[-1]\n",
    "\n",
    "graph_connectivity = torch.tensor(np.load(params.DATADIR+\"/connectivity.npy\"))\n",
    "\n",
    "print_3D_graph(test_graph.pos, edges=graph_connectivity, color=None)\n"
   ]
  }
 ],
 "metadata": {
  "kernelspec": {
   "display_name": "gpu_test_18",
   "language": "python",
   "name": "python3"
  },
  "language_info": {
   "codemirror_mode": {
    "name": "ipython",
    "version": 3
   },
   "file_extension": ".py",
   "mimetype": "text/x-python",
   "name": "python",
   "nbconvert_exporter": "python",
   "pygments_lexer": "ipython3",
   "version": "3.10.14"
  },
  "orig_nbformat": 4
 },
 "nbformat": 4,
 "nbformat_minor": 2
}
