{
 "cells": [
  {
   "cell_type": "markdown",
   "metadata": {},
   "source": [
    "# Main OpenFOAM Notebook"
   ]
  },
  {
   "cell_type": "code",
   "execution_count": null,
   "metadata": {},
   "outputs": [],
   "source": [
    "import numpy as np\n",
    "import os\n",
    "import subprocess\n",
    "\n",
    "# Definisci i range di angolo d'attacco e velocità da testare\n",
    "attack_angles = np.linspace(-10, 10, 21)\n",
    "velocities = np.linspace(10, 50, 11)\n",
    "\n",
    "# Crea il dataset vuoto\n",
    "dataset = []\n",
    "\n",
    "# Esegui le simulazioni OpenFOAM\n",
    "for angle in attack_angles:\n",
    "    for velocity in velocities:\n",
    "        # Genera la geometria\n",
    "        os.system(f'blockMesh -case case_{angle}_{velocity}')\n",
    "        \n",
    "        # Imposta i parametri di simulazione\n",
    "        with open('system/controlDict', 'w') as f:\n",
    "            f.write(f'attackAngle {angle};\\nvelocity {velocity};')\n",
    "        \n",
    "        # Esegui la simulazione\n",
    "        subprocess.run(['simpleFoam', '-case', f'case_{angle}_{velocity}'])\n",
    "        \n",
    "        # Estrai i risultati\n",
    "        with open(f'case_{angle}_{velocity}/forces.dat', 'r') as f:\n",
    "            cl, cd = [float(x) for x in f.readlines()[-1].split()]\n",
    "        \n",
    "        # Aggiungi i dati al dataset\n",
    "        dataset.append([angle, velocity, cl, cd])\n",
    "\n",
    "# Salva il dataset in un file\n",
    "np.savetxt('dataset.csv', dataset, delimiter=',', header='angle,velocity,cl,cd')"
   ]
  }
 ],
 "metadata": {
  "kernelspec": {
   "display_name": "gpu_test_18",
   "language": "python",
   "name": "python3"
  },
  "language_info": {
   "name": "python",
   "version": "3.10.14"
  }
 },
 "nbformat": 4,
 "nbformat_minor": 2
}
